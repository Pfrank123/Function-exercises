{
 "cells": [
  {
   "cell_type": "code",
   "execution_count": 2,
   "metadata": {},
   "outputs": [
    {
     "name": "stdout",
     "output_type": "stream",
     "text": [
      "IsAnagram:earth\n",
      "IsAnagram: heart\n",
      "True\n"
     ]
    }
   ],
   "source": [
    "string1 = input(\"IsAnagram:\")\n",
    "string2 = input(\"IsAnagram: \")\n",
    "sorted_string1 = sorted(string1)\n",
    "sorted_string2 = sorted(string2)\n",
    "\n",
    "if sorted_string1 ==sorted_string2:\n",
    "    print(\"True\")\n",
    "else:\n",
    "    print(\"False\")"
   ]
  }
 ],
 "metadata": {
  "kernelspec": {
   "display_name": "Python 3",
   "language": "python",
   "name": "python3"
  },
  "language_info": {
   "codemirror_mode": {
    "name": "ipython",
    "version": 3
   },
   "file_extension": ".py",
   "mimetype": "text/x-python",
   "name": "python",
   "nbconvert_exporter": "python",
   "pygments_lexer": "ipython3",
   "version": "3.7.3"
  }
 },
 "nbformat": 4,
 "nbformat_minor": 2
}
